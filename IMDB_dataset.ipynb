{
 "cells": [
  {
   "attachments": {},
   "cell_type": "markdown",
   "metadata": {},
   "source": [
    "Download IMDB dataset [https://datasets.imdbws.com/title.basics.tsv.gz](from)"
   ]
  },
  {
   "cell_type": "code",
   "execution_count": 1,
   "metadata": {},
   "outputs": [],
   "source": [
    "import numpy as np\n",
    "import pandas as pd\n",
    "from sklearn.feature_extraction.text import TfidfVectorizer\n",
    "from sklearn.feature_extraction.text import CountVectorizer\n",
    "from sklearn.metrics.pairwise import cosine_similarity"
   ]
  },
  {
   "cell_type": "code",
   "execution_count": 2,
   "metadata": {},
   "outputs": [],
   "source": [
    "INPUT_DATASET = \"title.basics.short.tsv\"\n",
    "PRIMARY_TITLE = 'primaryTitle'"
   ]
  },
  {
   "cell_type": "code",
   "execution_count": 3,
   "metadata": {},
   "outputs": [],
   "source": [
    "df = pd.read_csv(INPUT_DATASET, sep='\\t')"
   ]
  },
  {
   "cell_type": "code",
   "execution_count": 4,
   "metadata": {},
   "outputs": [
    {
     "name": "stdout",
     "output_type": "stream",
     "text": [
      "Indexed 999999 with 255483\n"
     ]
    }
   ],
   "source": [
    "vectorizer = TfidfVectorizer()\n",
    "X = vectorizer.fit_transform(df[PRIMARY_TITLE])\n",
    "num_movies, unique_words = X.shape\n",
    "print(f\"Indexed {num_movies} with {unique_words}\")"
   ]
  },
  {
   "cell_type": "code",
   "execution_count": 5,
   "metadata": {},
   "outputs": [],
   "source": [
    "QUERY = 'God'\n",
    "query_vec = vectorizer.transform([QUERY])"
   ]
  },
  {
   "cell_type": "code",
   "execution_count": 6,
   "metadata": {},
   "outputs": [
    {
     "name": "stdout",
     "output_type": "stream",
     "text": [
      "Hack: 2002\n",
      "Hack: 1997\n",
      "Hack!: 2007\n",
      "Game of Hack: 2002\n",
      ".hack//GIFT: 2003\n",
      "Hack the Planet: 1998\n",
      ".hack//SIGN: 2002\n",
      "Hack Like Me: 1994\n",
      "Hack Came, Hacksaw, Hack Conquered: 2004\n",
      ".hack//Roots: 2006\n"
     ]
    }
   ],
   "source": [
    "results = cosine_similarity(X, query_vec).reshape((-1,))\n",
    "results_top_10_reverse = results.argsort()[-10:][::-1]\n",
    "for i in results_top_10_reverse:\n",
    "    print(f\"{df.iloc[i, 2]}: {df.iloc[i, 5]}\")"
   ]
  }
 ],
 "metadata": {
  "kernelspec": {
   "display_name": "Python 3",
   "language": "python",
   "name": "python3"
  },
  "language_info": {
   "codemirror_mode": {
    "name": "ipython",
    "version": 3
   },
   "file_extension": ".py",
   "mimetype": "text/x-python",
   "name": "python",
   "nbconvert_exporter": "python",
   "pygments_lexer": "ipython3",
   "version": "3.10.9"
  },
  "orig_nbformat": 4,
  "vscode": {
   "interpreter": {
    "hash": "b0fa6594d8f4cbf19f97940f81e996739fb7646882a419484c72d19e05852a7e"
   }
  }
 },
 "nbformat": 4,
 "nbformat_minor": 2
}
