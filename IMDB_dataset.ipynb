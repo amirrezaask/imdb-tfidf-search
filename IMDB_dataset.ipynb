{
 "cells": [
  {
   "attachments": {},
   "cell_type": "markdown",
   "metadata": {},
   "source": [
    "Download IMDB dataset [https://datasets.imdbws.com/title.basics.tsv.gz](from)"
   ]
  },
  {
   "cell_type": "code",
   "execution_count": 45,
   "metadata": {},
   "outputs": [],
   "source": [
    "import numpy as np\n",
    "import pandas as pd\n",
    "from sklearn.feature_extraction.text import TfidfVectorizer\n",
    "from sklearn.feature_extraction.text import CountVectorizer\n",
    "from sklearn.metrics.pairwise import cosine_similarity"
   ]
  },
  {
   "cell_type": "code",
   "execution_count": 52,
   "metadata": {},
   "outputs": [],
   "source": [
    "INPUT_DATASET = \"title.basics.short.tsv\"\n",
    "PRIMARY_TITLE = 'primaryTitle'"
   ]
  },
  {
   "cell_type": "code",
   "execution_count": 47,
   "metadata": {},
   "outputs": [
    {
     "data": {
      "text/plain": [
       "0                                                Carmencita\n",
       "1                                    Le clown et ses chiens\n",
       "2                                            Pauvre Pierrot\n",
       "3                                               Un bon bock\n",
       "4                                          Blacksmith Scene\n",
       "                                ...                        \n",
       "999994                                      Episode #1.1022\n",
       "999995                                      Episode #1.1023\n",
       "999996                                                    ;\n",
       "999997    Yokohama bei burijji minato machi no fukkatsu ...\n",
       "999998                                      Episode #1.1024\n",
       "Name: primaryTitle, Length: 999999, dtype: object"
      ]
     },
     "execution_count": 47,
     "metadata": {},
     "output_type": "execute_result"
    }
   ],
   "source": [
    "df = pd.read_csv(INPUT_DATASET, sep='\\t')\n",
    "df[PRIMARY_TITLE]"
   ]
  },
  {
   "cell_type": "code",
   "execution_count": 48,
   "metadata": {},
   "outputs": [
    {
     "data": {
      "text/plain": [
       "(999999, 255483)"
      ]
     },
     "execution_count": 48,
     "metadata": {},
     "output_type": "execute_result"
    }
   ],
   "source": [
    "vectorizer = TfidfVectorizer()\n",
    "X = vectorizer.fit_transform(df[PRIMARY_TITLE])\n",
    "X.shape # (#movies, #unique words)"
   ]
  },
  {
   "cell_type": "code",
   "execution_count": 53,
   "metadata": {},
   "outputs": [],
   "source": [
    "QUERY = 'God'\n",
    "query_vec = vectorizer.transform([QUERY])"
   ]
  },
  {
   "cell_type": "code",
   "execution_count": 51,
   "metadata": {},
   "outputs": [
    {
     "name": "stdout",
     "output_type": "stream",
     "text": [
      "Batman: 1989\n",
      "Batman: 1989\n",
      "Batman: 1966\n",
      "Batman: 1943\n",
      "Batman: 1996\n",
      "Batman: 1966\n",
      "The Batman: 2004\n",
      "Death of a Batman: 1963\n",
      "Batman Beyond: 1999\n",
      "Batman Beyond: 2000\n"
     ]
    }
   ],
   "source": [
    "results = cosine_similarity(X, query_vec).reshape((-1,))\n",
    "results_top_10_reverse = results.argsort()[-10:][::-1]\n",
    "for i in results_top_10_reverse:\n",
    "    print(f\"{df.iloc[i, 2]}: {df.iloc[i, 5]}\")"
   ]
  }
 ],
 "metadata": {
  "kernelspec": {
   "display_name": "Python 3",
   "language": "python",
   "name": "python3"
  },
  "language_info": {
   "codemirror_mode": {
    "name": "ipython",
    "version": 3
   },
   "file_extension": ".py",
   "mimetype": "text/x-python",
   "name": "python",
   "nbconvert_exporter": "python",
   "pygments_lexer": "ipython3",
   "version": "3.10.9"
  },
  "orig_nbformat": 4,
  "vscode": {
   "interpreter": {
    "hash": "b0fa6594d8f4cbf19f97940f81e996739fb7646882a419484c72d19e05852a7e"
   }
  }
 },
 "nbformat": 4,
 "nbformat_minor": 2
}
